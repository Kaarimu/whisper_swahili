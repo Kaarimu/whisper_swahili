{
  "nbformat": 4,
  "nbformat_minor": 0,
  "metadata": {
    "colab": {
      "provenance": [],
      "authorship_tag": "ABX9TyPDH9zNCBV9/5CzZg/Ze1FA",
      "include_colab_link": true
    },
    "kernelspec": {
      "name": "python3",
      "display_name": "Python 3"
    },
    "language_info": {
      "name": "python"
    },
    "accelerator": "GPU",
    "gpuClass": "standard"
  },
  "cells": [
    {
      "cell_type": "markdown",
      "metadata": {
        "id": "view-in-github",
        "colab_type": "text"
      },
      "source": [
        "<a href=\"https://colab.research.google.com/github/Kaarimu/whisper_swahili/blob/main/Transcribe_language.ipynb\" target=\"_parent\"><img src=\"https://colab.research.google.com/assets/colab-badge.svg\" alt=\"Open In Colab\"/></a>"
      ]
    },
    {
      "cell_type": "code",
      "source": [
        "!pip install git+https://github.com/openai/whisper.git -q\n"
      ],
      "metadata": {
        "id": "FfWRmb8dwup-",
        "collapsed": true
      },
      "execution_count": null,
      "outputs": []
    },
    {
      "cell_type": "code",
      "source": [
        "!nvidia-smi -L"
      ],
      "metadata": {
        "id": "eW3KG76YTbj5"
      },
      "execution_count": null,
      "outputs": []
    },
    {
      "cell_type": "code",
      "source": [
        "!pip install pytube -q"
      ],
      "metadata": {
        "id": "wDkfUY_PJxip"
      },
      "execution_count": null,
      "outputs": []
    },
    {
      "cell_type": "code",
      "source": [
        "import whisper\n",
        "from pytube import YouTube"
      ],
      "metadata": {
        "id": "7tMC7-hcJ-5Q"
      },
      "execution_count": null,
      "outputs": []
    },
    {
      "cell_type": "code",
      "source": [
        "model = whisper.load_model('large-v2')"
      ],
      "metadata": {
        "id": "dsDvCjk1KNi0"
      },
      "execution_count": null,
      "outputs": []
    },
    {
      "cell_type": "code",
      "source": [
        "youtube_video_url = \"https://www.youtube.com/watch?v=p_ZVAp3ZfMs\"\n",
        "youtube_video = YouTube(youtube_video_url)"
      ],
      "metadata": {
        "id": "RdGhTl1-KUsC"
      },
      "execution_count": null,
      "outputs": []
    },
    {
      "cell_type": "code",
      "source": [
        "youtube_video.title\n"
      ],
      "metadata": {
        "id": "4Y63_HJfLI2U"
      },
      "execution_count": null,
      "outputs": []
    },
    {
      "cell_type": "code",
      "source": [
        "dir(youtube_video)"
      ],
      "metadata": {
        "id": "DIpUKEUhmwvG"
      },
      "execution_count": null,
      "outputs": []
    },
    {
      "cell_type": "code",
      "source": [
        "youtube_video.streams"
      ],
      "metadata": {
        "id": "I3XV0qVmyE_b"
      },
      "execution_count": null,
      "outputs": []
    },
    {
      "cell_type": "code",
      "source": [
        "for stream in youtube_video.streams:\n",
        "  print(stream)"
      ],
      "metadata": {
        "id": "llxI9SJELPmF"
      },
      "execution_count": null,
      "outputs": []
    },
    {
      "cell_type": "code",
      "source": [
        "streams = youtube_video.streams.filter(only_audio=True)\n",
        "streams\n"
      ],
      "metadata": {
        "id": "p1LZFVslL1Ce"
      },
      "execution_count": null,
      "outputs": []
    },
    {
      "cell_type": "code",
      "source": [
        "stream = streams.last()\n",
        "stream"
      ],
      "metadata": {
        "id": "oHiKuSBSMBYC"
      },
      "execution_count": null,
      "outputs": []
    },
    {
      "cell_type": "code",
      "source": [
        "stream.download(filename='gumzo_la_sato_mapenzi_kazini.mp4')"
      ],
      "metadata": {
        "id": "IgaPoXfKOFOx"
      },
      "execution_count": null,
      "outputs": []
    },
    {
      "cell_type": "code",
      "source": [
        "# do the transcription\n",
        "import datetime\n",
        "\n",
        "# save a timestamp before transcription\n",
        "t1 = datetime.datetime.now()\n",
        "print(f\"started at {t1}\")\n",
        "\n",
        "# do the transcription\n",
        "output = model.transcribe(\"gumzo_la_sato_mapenzi_kazini.mp4\")\n",
        "\n",
        "# show time elapsed after transcription is complete.\n",
        "t2 = datetime.datetime.now()\n",
        "print(f\"ended at {t2}\")\n",
        "print(f\"time elapsed: {t2 - t1}\")\n"
      ],
      "metadata": {
        "id": "IpM_d5qjxbMm"
      },
      "execution_count": null,
      "outputs": []
    },
    {
      "cell_type": "code",
      "source": [
        "output"
      ],
      "metadata": {
        "id": "_GCJi5U5-_wR"
      },
      "execution_count": null,
      "outputs": []
    },
    {
      "cell_type": "code",
      "source": [
        "output[\"text\"]"
      ],
      "metadata": {
        "id": "tiAbvLCqzCJg"
      },
      "execution_count": null,
      "outputs": []
    },
    {
      "cell_type": "code",
      "source": [
        "import pandas as pd"
      ],
      "metadata": {
        "id": "SS4adEmzT81s"
      },
      "execution_count": null,
      "outputs": []
    },
    {
      "cell_type": "code",
      "source": [
        "# The name of the file you want to save the output to\n",
        "filename = 'gumzo_la_sato_mapenzi_kazini.txt'\n",
        "\n",
        "df = pd.DataFrame(output)\n",
        "df.to_csv(filename)"
      ],
      "metadata": {
        "id": "f3I1XAWiTuZN"
      },
      "execution_count": null,
      "outputs": []
    },
    {
      "cell_type": "code",
      "source": [
        "for segment in output['segments']:\n",
        "  print(segment)\n",
        "  second = int(segment['start'])\n",
        "  second = second - (second % 5)\n",
        "  print(second)"
      ],
      "metadata": {
        "id": "FdxNi9m-_Kz8"
      },
      "execution_count": null,
      "outputs": []
    },
    {
      "cell_type": "code",
      "source": [
        "!pip install googletrans"
      ],
      "metadata": {
        "id": "mYZPQC7oZQy9"
      },
      "execution_count": null,
      "outputs": []
    },
    {
      "cell_type": "code",
      "source": [
        "from googletrans import Translator"
      ],
      "metadata": {
        "id": "po1CSkkuZ29N"
      },
      "execution_count": null,
      "outputs": []
    },
    {
      "cell_type": "code",
      "source": [
        "# The text to translate\n",
        "text = output[\"text\"]"
      ],
      "metadata": {
        "id": "jw3lkhqBZYFS"
      },
      "execution_count": null,
      "outputs": []
    },
    {
      "cell_type": "code",
      "source": [
        "print(text)\n",
        "length = len(text.split())\n",
        "print(length)"
      ],
      "metadata": {
        "id": "PwG6bRTfa8Aw"
      },
      "execution_count": null,
      "outputs": []
    },
    {
      "cell_type": "code",
      "source": [
        "# Create a translator object\n",
        "translator = Translator()"
      ],
      "metadata": {
        "id": "Io4KRlWXahBK"
      },
      "execution_count": null,
      "outputs": []
    },
    {
      "cell_type": "code",
      "source": [
        "# Translate the text\n",
        "result_heshima_mapenzi = translator.translate(text, src='sw', dest='en')"
      ],
      "metadata": {
        "id": "AFUbyKWfaCod"
      },
      "execution_count": null,
      "outputs": []
    },
    {
      "cell_type": "code",
      "source": [
        "# Print the translated text\n",
        "print(result_heshima_mapenzi.text)"
      ],
      "metadata": {
        "id": "jjIS2HxsaG50"
      },
      "execution_count": null,
      "outputs": []
    }
  ]
}
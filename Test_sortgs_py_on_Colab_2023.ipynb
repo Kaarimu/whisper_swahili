{
  "nbformat": 4,
  "nbformat_minor": 0,
  "metadata": {
    "colab": {
      "name": "Test sortgs.py on Colab.ipynb",
      "provenance": [],
      "include_colab_link": true
    },
    "kernelspec": {
      "name": "python3",
      "display_name": "Python 3"
    }
  },
  "cells": [
    {
      "cell_type": "markdown",
      "metadata": {
        "id": "view-in-github",
        "colab_type": "text"
      },
      "source": [
        "<a href=\"https://colab.research.google.com/github/Kaarimu/whisper_swahili/blob/main/Test_sortgs_py_on_Colab_2023.ipynb\" target=\"_parent\"><img src=\"https://colab.research.google.com/assets/colab-badge.svg\" alt=\"Open In Colab\"/></a>"
      ]
    },
    {
      "cell_type": "markdown",
      "metadata": {
        "id": "M36VFanosbkb"
      },
      "source": [
        "## Try `sortgs.py` on Google Colab\n",
        "This is a jupyter envirnment where you can try the code of the repository without installing anything. The only limitation is the robot checking problem which would require selenium and manual solution of the captchas, but for trying a few keywords, it should work! \n",
        "\n",
        "> **INSTRUCTIONS:** If this is the first time you are using a jupyter environment, you simply have to run the code blocks using the keyword `SHIFT` + `ENTER`. Make sure to update the keyword parameters when required. \n",
        "\n",
        "First, let's clone the repository:"
      ]
    },
    {
      "cell_type": "code",
      "metadata": {
        "id": "oPot8aWcsfei",
        "outputId": "5f255bd4-cb28-4abb-8aa5-d7a4acf96816",
        "colab": {
          "base_uri": "https://localhost:8080/"
        }
      },
      "source": [
        "!git clone https://github.com/WittmannF/sort-google-scholar.git"
      ],
      "execution_count": 16,
      "outputs": [
        {
          "output_type": "stream",
          "name": "stdout",
          "text": [
            "Cloning into 'sort-google-scholar'...\n",
            "remote: Enumerating objects: 244, done.\u001b[K\n",
            "remote: Counting objects:   8% (1/12)\u001b[K\rremote: Counting objects:  16% (2/12)\u001b[K\rremote: Counting objects:  25% (3/12)\u001b[K\rremote: Counting objects:  33% (4/12)\u001b[K\rremote: Counting objects:  41% (5/12)\u001b[K\rremote: Counting objects:  50% (6/12)\u001b[K\rremote: Counting objects:  58% (7/12)\u001b[K\rremote: Counting objects:  66% (8/12)\u001b[K\rremote: Counting objects:  75% (9/12)\u001b[K\rremote: Counting objects:  83% (10/12)\u001b[K\rremote: Counting objects:  91% (11/12)\u001b[K\rremote: Counting objects: 100% (12/12)\u001b[K\rremote: Counting objects: 100% (12/12), done.\u001b[K\n",
            "remote: Compressing objects:  10% (1/10)\u001b[K\rremote: Compressing objects:  20% (2/10)\u001b[K\rremote: Compressing objects:  30% (3/10)\u001b[K\rremote: Compressing objects:  40% (4/10)\u001b[K\rremote: Compressing objects:  50% (5/10)\u001b[K\rremote: Compressing objects:  60% (6/10)\u001b[K\rremote: Compressing objects:  70% (7/10)\u001b[K\rremote: Compressing objects:  80% (8/10)\u001b[K\rremote: Compressing objects:  90% (9/10)\u001b[K\rremote: Compressing objects: 100% (10/10)\u001b[K\rremote: Compressing objects: 100% (10/10), done.\u001b[K\n",
            "Receiving objects:   0% (1/244)\rReceiving objects:   1% (3/244)\rReceiving objects:   2% (5/244)\rReceiving objects:   3% (8/244)\rReceiving objects:   4% (10/244)\rReceiving objects:   5% (13/244)\rReceiving objects:   6% (15/244)\rReceiving objects:   7% (18/244)\rReceiving objects:   8% (20/244)\rReceiving objects:   9% (22/244)\rReceiving objects:  10% (25/244)\rReceiving objects:  11% (27/244)\rReceiving objects:  12% (30/244)\rReceiving objects:  13% (32/244)\rReceiving objects:  14% (35/244)\rReceiving objects:  15% (37/244)\rReceiving objects:  16% (40/244)\rReceiving objects:  17% (42/244)\rReceiving objects:  18% (44/244)\rReceiving objects:  19% (47/244)\rReceiving objects:  20% (49/244)\rReceiving objects:  21% (52/244)\rReceiving objects:  22% (54/244)\rReceiving objects:  23% (57/244)\rReceiving objects:  24% (59/244)\rReceiving objects:  25% (61/244)\rReceiving objects:  26% (64/244)\rReceiving objects:  27% (66/244)\rReceiving objects:  28% (69/244)\rReceiving objects:  29% (71/244)\rReceiving objects:  30% (74/244)\rReceiving objects:  31% (76/244)\rReceiving objects:  32% (79/244)\rReceiving objects:  33% (81/244)\rReceiving objects:  34% (83/244)\rReceiving objects:  35% (86/244)\rReceiving objects:  36% (88/244)\rReceiving objects:  37% (91/244)\rReceiving objects:  38% (93/244)\rReceiving objects:  39% (96/244)\rReceiving objects:  40% (98/244)\rReceiving objects:  41% (101/244)\rReceiving objects:  42% (103/244)\rReceiving objects:  43% (105/244)\rReceiving objects:  44% (108/244)\rReceiving objects:  45% (110/244)\rReceiving objects:  46% (113/244)\rReceiving objects:  47% (115/244)\rReceiving objects:  48% (118/244)\rReceiving objects:  49% (120/244)\rReceiving objects:  50% (122/244)\rReceiving objects:  51% (125/244)\rReceiving objects:  52% (127/244)\rReceiving objects:  53% (130/244)\rReceiving objects:  54% (132/244)\rReceiving objects:  55% (135/244)\rReceiving objects:  56% (137/244)\rReceiving objects:  57% (140/244)\rReceiving objects:  58% (142/244)\rReceiving objects:  59% (144/244)\rReceiving objects:  60% (147/244)\rReceiving objects:  61% (149/244)\rReceiving objects:  62% (152/244)\rReceiving objects:  63% (154/244)\rReceiving objects:  64% (157/244)\rReceiving objects:  65% (159/244)\rReceiving objects:  66% (162/244)\rReceiving objects:  67% (164/244)\rReceiving objects:  68% (166/244)\rReceiving objects:  69% (169/244)\rReceiving objects:  70% (171/244)\rReceiving objects:  71% (174/244)\rReceiving objects:  72% (176/244)\rReceiving objects:  73% (179/244)\rReceiving objects:  74% (181/244)\rReceiving objects:  75% (183/244)\rReceiving objects:  76% (186/244)\rremote: Total 244 (delta 3), reused 6 (delta 2), pack-reused 232\u001b[K\n",
            "Receiving objects:  77% (188/244)\rReceiving objects:  78% (191/244)\rReceiving objects:  79% (193/244)\rReceiving objects:  80% (196/244)\rReceiving objects:  81% (198/244)\rReceiving objects:  82% (201/244)\rReceiving objects:  83% (203/244)\rReceiving objects:  84% (205/244)\rReceiving objects:  85% (208/244)\rReceiving objects:  86% (210/244)\rReceiving objects:  87% (213/244)\rReceiving objects:  88% (215/244)\rReceiving objects:  89% (218/244)\rReceiving objects:  90% (220/244)\rReceiving objects:  91% (223/244)\rReceiving objects:  92% (225/244)\rReceiving objects:  93% (227/244)\rReceiving objects:  94% (230/244)\rReceiving objects:  95% (232/244)\rReceiving objects:  96% (235/244)\rReceiving objects:  97% (237/244)\rReceiving objects:  98% (240/244)\rReceiving objects:  99% (242/244)\rReceiving objects: 100% (244/244)\rReceiving objects: 100% (244/244), 137.39 KiB | 15.27 MiB/s, done.\n",
            "Resolving deltas:   0% (0/109)\rResolving deltas:   1% (2/109)\rResolving deltas:  11% (12/109)\rResolving deltas:  16% (18/109)\rResolving deltas:  25% (28/109)\rResolving deltas:  33% (37/109)\rResolving deltas:  40% (44/109)\rResolving deltas:  60% (66/109)\rResolving deltas:  61% (67/109)\rResolving deltas:  62% (68/109)\rResolving deltas:  71% (78/109)\rResolving deltas:  74% (81/109)\rResolving deltas:  79% (87/109)\rResolving deltas:  87% (95/109)\rResolving deltas:  89% (98/109)\rResolving deltas:  92% (101/109)\rResolving deltas:  96% (105/109)\rResolving deltas:  98% (107/109)\rResolving deltas:  99% (108/109)\rResolving deltas: 100% (109/109)\rResolving deltas: 100% (109/109), done.\n"
          ]
        }
      ]
    },
    {
      "cell_type": "markdown",
      "metadata": {
        "id": "pM5XMRmVspR7"
      },
      "source": [
        "Now, let's open the folder from the cloned repository:"
      ]
    },
    {
      "cell_type": "code",
      "metadata": {
        "id": "LQ0mCxVNrlCB",
        "colab": {
          "base_uri": "https://localhost:8080/"
        },
        "outputId": "d0a5134a-b966-4db8-f673-606129b1052a"
      },
      "source": [
        "cd sort-google-scholar/"
      ],
      "execution_count": 17,
      "outputs": [
        {
          "output_type": "stream",
          "name": "stdout",
          "text": [
            "/content/sort-google-scholar/sort-google-scholar/sort-google-scholar\n"
          ]
        }
      ]
    },
    {
      "cell_type": "markdown",
      "metadata": {
        "id": "KALGyCEJsvTL"
      },
      "source": [
        "Next, let's run the code. Make sure to change \"deep learning\" to the keyword that you would like to have it ranked."
      ]
    },
    {
      "cell_type": "code",
      "metadata": {
        "id": "dohZcNUmrost",
        "colab": {
          "base_uri": "https://localhost:8080/"
        },
        "outputId": "a2dd02bf-63ed-411f-acf0-ae46b162b986"
      },
      "source": [
        "# Change 'low resource languages' with the keyword that you would like to check\n",
        "!python sortgs.py --kw \"low_resource_language parsers\" --sortby \"cit/year\""
      ],
      "execution_count": 18,
      "outputs": [
        {
          "output_type": "stream",
          "name": "stdout",
          "text": [
            "Loading next 10 results\n",
            "Loading next 20 results\n",
            "Loading next 30 results\n",
            "Loading next 40 results\n",
            "Loading next 50 results\n",
            "Loading next 60 results\n",
            "Loading next 70 results\n",
            "Loading next 80 results\n",
            "Loading next 90 results\n",
            "Loading next 100 results\n",
            "                                          Author  ... cit/year\n",
            "Rank                                              ...         \n",
            "70                     Fadaee, A Bisazza, C Monz  ...       61\n",
            "59                                  Wu, M Dredze  ...       40\n",
            "38            Schuster, S Gupta, R Shah, M Lewis  ...       33\n",
            "72       Hedderich, L Lange, H Adel, J Strötgen…  ...       32\n",
            "32                                 Agic, I Vulic  ...       25\n",
            "...                                          ...  ...      ...\n",
            "62                                      Mulcaire  ...        0\n",
            "64    Micallef, A Gatt, M Tanti, L van der Plas…  ...        0\n",
            "73                                          Tham  ...        0\n",
            "12            Sethi, A Dev, P Bansal, DK Sharma…  ...        0\n",
            "16               Evang, L Kallmeyer, J Waszczuk…  ...        0\n",
            "\n",
            "[100 rows x 8 columns]\n"
          ]
        }
      ]
    },
    {
      "cell_type": "markdown",
      "metadata": {
        "id": "s_nuxpy_s_9c"
      },
      "source": [
        "> _**NOTE:** It is normal to get some warnings, for example year not found or author not found. However, if you get the robot checking warning, then it might not work anymore in the IP that you have on Google Colab. You can try going in 'Runtime' > 'Disconnect and delete runtime' to get a new IP. If the problem persists, then you will have to run locally using selenium and solve the captchas manually. Make sure to avoid running this code too often to avoid the robot checking problem._\n",
        "\n",
        "Next, you will see that a csv file with the name of the keyword was created (which is `deep_learning.csv` in my case). "
      ]
    },
    {
      "cell_type": "code",
      "metadata": {
        "id": "94792EoBrrBU",
        "colab": {
          "base_uri": "https://localhost:8080/"
        },
        "outputId": "a950e3ae-e35a-492d-e0d0-872366efc507"
      },
      "source": [
        "ls"
      ],
      "execution_count": 19,
      "outputs": [
        {
          "output_type": "stream",
          "name": "stdout",
          "text": [
            "\u001b[0m\u001b[01;34mexamples\u001b[0m/                          \u001b[01;34msort-google-scholar-V1\u001b[0m/\n",
            "low_resource_language_parsers.csv  \u001b[01;32msortgs.py\u001b[0m*\n",
            "README.md                          \u001b[01;34mtest\u001b[0m/\n",
            "requirements.txt                   Test_sortgs_py_on_Colab.ipynb\n"
          ]
        }
      ]
    },
    {
      "cell_type": "markdown",
      "metadata": {
        "id": "QQIb9oYou9GM"
      },
      "source": [
        "Let's import this file to visualize some results (make sure to change `deep_learning.csv` to the file name that was created in your case):"
      ]
    },
    {
      "cell_type": "code",
      "metadata": {
        "id": "NVoHI4zTr5pB"
      },
      "source": [
        "import pandas as pd\n",
        "df = pd.read_csv('low_resource_language_parsers.csv') # OBS: Update the file name"
      ],
      "execution_count": 20,
      "outputs": []
    },
    {
      "cell_type": "code",
      "metadata": {
        "id": "S1NzeUq0sOu-",
        "colab": {
          "base_uri": "https://localhost:8080/",
          "height": 1000
        },
        "outputId": "db4d1b48-7124-4054-beec-5b321de3fc25"
      },
      "source": [
        "df.head(10)"
      ],
      "execution_count": 21,
      "outputs": [
        {
          "output_type": "execute_result",
          "data": {
            "text/plain": [
              "   Rank                                    Author  \\\n",
              "0    70                 Fadaee, A Bisazza, C Monz   \n",
              "1    59                              Wu, M Dredze   \n",
              "2    38        Schuster, S Gupta, R Shah, M Lewis   \n",
              "3    72   Hedderich, L Lange, H Adel, J Strötgen…   \n",
              "4    32                             Agic, I Vulic   \n",
              "5    65                                    Ambati   \n",
              "6    40             Adams, A Makarucha, G Neubig…   \n",
              "7    84                   Mayhew, CT Tsai, D Roth   \n",
              "8    15    Üstün, A Bisazza, G Bouma, G van Noord   \n",
              "9    19         Magueresse, V Carles, E Heetderks   \n",
              "\n",
              "                                               Title  Citations  Year  \\\n",
              "0  Data augmentation for low-resource neural mach...        425  2017   \n",
              "1  Are all languages created equal in multilingua...        162  2020   \n",
              "2  Cross-lingual transfer learning for multilingu...        198  2018   \n",
              "3  A survey on recent approaches for natural lang...        127  2020   \n",
              "4  JW300: A wide-coverage parallel corpus for low...        123  2019   \n",
              "5  Active learning and crowdsourcing for machine ...        226  2012   \n",
              "6  Cross-lingual word embeddings for low-resource...        129  2017   \n",
              "7  Cheap translation for cross-lingual named enti...        116  2017   \n",
              "8  UDapter: Language adaptation for truly Univers...         60  2020   \n",
              "9  Low-resource languages: A review of past work ...         50  2020   \n",
              "\n",
              "               Publisher                                     Venue  \\\n",
              "0              arxiv.org           arXiv preprint arXiv:1705.00440   \n",
              "1              arxiv.org           arXiv preprint arXiv:2005.09093   \n",
              "2              arxiv.org           arXiv preprint arXiv:1810.13327   \n",
              "3              arxiv.org                    arXiv preprint arXiv …   \n",
              "4   repository.cam.ac.uk                                       NaN   \n",
              "5    search.proquest.com                                       NaN   \n",
              "6       aclanthology.org                      Proceedings of the …   \n",
              "7       aclanthology.org   … of the 2017 conference on empirical …   \n",
              "8              arxiv.org                    arXiv preprint arXiv …   \n",
              "9              arxiv.org           arXiv preprint arXiv:2006.07264   \n",
              "\n",
              "                                              Source  cit/year  \n",
              "0                   https://arxiv.org/abs/1705.00440        61  \n",
              "1                   https://arxiv.org/abs/2005.09093        40  \n",
              "2                   https://arxiv.org/abs/1810.13327        33  \n",
              "3                   https://arxiv.org/abs/2010.12309        32  \n",
              "4  https://www.repository.cam.ac.uk/bitstream/han...        25  \n",
              "5  https://search.proquest.com/openview/dfdb01489...        19  \n",
              "6                 https://aclanthology.org/E17-1088/        18  \n",
              "7                 https://aclanthology.org/D17-1269/        17  \n",
              "8                   https://arxiv.org/abs/2004.14327        15  \n",
              "9                   https://arxiv.org/abs/2006.07264        12  "
            ],
            "text/html": [
              "\n",
              "  <div id=\"df-4d8e4ea2-09ba-4397-be00-21869d0ee9c7\">\n",
              "    <div class=\"colab-df-container\">\n",
              "      <div>\n",
              "<style scoped>\n",
              "    .dataframe tbody tr th:only-of-type {\n",
              "        vertical-align: middle;\n",
              "    }\n",
              "\n",
              "    .dataframe tbody tr th {\n",
              "        vertical-align: top;\n",
              "    }\n",
              "\n",
              "    .dataframe thead th {\n",
              "        text-align: right;\n",
              "    }\n",
              "</style>\n",
              "<table border=\"1\" class=\"dataframe\">\n",
              "  <thead>\n",
              "    <tr style=\"text-align: right;\">\n",
              "      <th></th>\n",
              "      <th>Rank</th>\n",
              "      <th>Author</th>\n",
              "      <th>Title</th>\n",
              "      <th>Citations</th>\n",
              "      <th>Year</th>\n",
              "      <th>Publisher</th>\n",
              "      <th>Venue</th>\n",
              "      <th>Source</th>\n",
              "      <th>cit/year</th>\n",
              "    </tr>\n",
              "  </thead>\n",
              "  <tbody>\n",
              "    <tr>\n",
              "      <th>0</th>\n",
              "      <td>70</td>\n",
              "      <td>Fadaee, A Bisazza, C Monz</td>\n",
              "      <td>Data augmentation for low-resource neural mach...</td>\n",
              "      <td>425</td>\n",
              "      <td>2017</td>\n",
              "      <td>arxiv.org</td>\n",
              "      <td>arXiv preprint arXiv:1705.00440</td>\n",
              "      <td>https://arxiv.org/abs/1705.00440</td>\n",
              "      <td>61</td>\n",
              "    </tr>\n",
              "    <tr>\n",
              "      <th>1</th>\n",
              "      <td>59</td>\n",
              "      <td>Wu, M Dredze</td>\n",
              "      <td>Are all languages created equal in multilingua...</td>\n",
              "      <td>162</td>\n",
              "      <td>2020</td>\n",
              "      <td>arxiv.org</td>\n",
              "      <td>arXiv preprint arXiv:2005.09093</td>\n",
              "      <td>https://arxiv.org/abs/2005.09093</td>\n",
              "      <td>40</td>\n",
              "    </tr>\n",
              "    <tr>\n",
              "      <th>2</th>\n",
              "      <td>38</td>\n",
              "      <td>Schuster, S Gupta, R Shah, M Lewis</td>\n",
              "      <td>Cross-lingual transfer learning for multilingu...</td>\n",
              "      <td>198</td>\n",
              "      <td>2018</td>\n",
              "      <td>arxiv.org</td>\n",
              "      <td>arXiv preprint arXiv:1810.13327</td>\n",
              "      <td>https://arxiv.org/abs/1810.13327</td>\n",
              "      <td>33</td>\n",
              "    </tr>\n",
              "    <tr>\n",
              "      <th>3</th>\n",
              "      <td>72</td>\n",
              "      <td>Hedderich, L Lange, H Adel, J Strötgen…</td>\n",
              "      <td>A survey on recent approaches for natural lang...</td>\n",
              "      <td>127</td>\n",
              "      <td>2020</td>\n",
              "      <td>arxiv.org</td>\n",
              "      <td>arXiv preprint arXiv …</td>\n",
              "      <td>https://arxiv.org/abs/2010.12309</td>\n",
              "      <td>32</td>\n",
              "    </tr>\n",
              "    <tr>\n",
              "      <th>4</th>\n",
              "      <td>32</td>\n",
              "      <td>Agic, I Vulic</td>\n",
              "      <td>JW300: A wide-coverage parallel corpus for low...</td>\n",
              "      <td>123</td>\n",
              "      <td>2019</td>\n",
              "      <td>repository.cam.ac.uk</td>\n",
              "      <td>NaN</td>\n",
              "      <td>https://www.repository.cam.ac.uk/bitstream/han...</td>\n",
              "      <td>25</td>\n",
              "    </tr>\n",
              "    <tr>\n",
              "      <th>5</th>\n",
              "      <td>65</td>\n",
              "      <td>Ambati</td>\n",
              "      <td>Active learning and crowdsourcing for machine ...</td>\n",
              "      <td>226</td>\n",
              "      <td>2012</td>\n",
              "      <td>search.proquest.com</td>\n",
              "      <td>NaN</td>\n",
              "      <td>https://search.proquest.com/openview/dfdb01489...</td>\n",
              "      <td>19</td>\n",
              "    </tr>\n",
              "    <tr>\n",
              "      <th>6</th>\n",
              "      <td>40</td>\n",
              "      <td>Adams, A Makarucha, G Neubig…</td>\n",
              "      <td>Cross-lingual word embeddings for low-resource...</td>\n",
              "      <td>129</td>\n",
              "      <td>2017</td>\n",
              "      <td>aclanthology.org</td>\n",
              "      <td>Proceedings of the …</td>\n",
              "      <td>https://aclanthology.org/E17-1088/</td>\n",
              "      <td>18</td>\n",
              "    </tr>\n",
              "    <tr>\n",
              "      <th>7</th>\n",
              "      <td>84</td>\n",
              "      <td>Mayhew, CT Tsai, D Roth</td>\n",
              "      <td>Cheap translation for cross-lingual named enti...</td>\n",
              "      <td>116</td>\n",
              "      <td>2017</td>\n",
              "      <td>aclanthology.org</td>\n",
              "      <td>… of the 2017 conference on empirical …</td>\n",
              "      <td>https://aclanthology.org/D17-1269/</td>\n",
              "      <td>17</td>\n",
              "    </tr>\n",
              "    <tr>\n",
              "      <th>8</th>\n",
              "      <td>15</td>\n",
              "      <td>Üstün, A Bisazza, G Bouma, G van Noord</td>\n",
              "      <td>UDapter: Language adaptation for truly Univers...</td>\n",
              "      <td>60</td>\n",
              "      <td>2020</td>\n",
              "      <td>arxiv.org</td>\n",
              "      <td>arXiv preprint arXiv …</td>\n",
              "      <td>https://arxiv.org/abs/2004.14327</td>\n",
              "      <td>15</td>\n",
              "    </tr>\n",
              "    <tr>\n",
              "      <th>9</th>\n",
              "      <td>19</td>\n",
              "      <td>Magueresse, V Carles, E Heetderks</td>\n",
              "      <td>Low-resource languages: A review of past work ...</td>\n",
              "      <td>50</td>\n",
              "      <td>2020</td>\n",
              "      <td>arxiv.org</td>\n",
              "      <td>arXiv preprint arXiv:2006.07264</td>\n",
              "      <td>https://arxiv.org/abs/2006.07264</td>\n",
              "      <td>12</td>\n",
              "    </tr>\n",
              "  </tbody>\n",
              "</table>\n",
              "</div>\n",
              "      <button class=\"colab-df-convert\" onclick=\"convertToInteractive('df-4d8e4ea2-09ba-4397-be00-21869d0ee9c7')\"\n",
              "              title=\"Convert this dataframe to an interactive table.\"\n",
              "              style=\"display:none;\">\n",
              "        \n",
              "  <svg xmlns=\"http://www.w3.org/2000/svg\" height=\"24px\"viewBox=\"0 0 24 24\"\n",
              "       width=\"24px\">\n",
              "    <path d=\"M0 0h24v24H0V0z\" fill=\"none\"/>\n",
              "    <path d=\"M18.56 5.44l.94 2.06.94-2.06 2.06-.94-2.06-.94-.94-2.06-.94 2.06-2.06.94zm-11 1L8.5 8.5l.94-2.06 2.06-.94-2.06-.94L8.5 2.5l-.94 2.06-2.06.94zm10 10l.94 2.06.94-2.06 2.06-.94-2.06-.94-.94-2.06-.94 2.06-2.06.94z\"/><path d=\"M17.41 7.96l-1.37-1.37c-.4-.4-.92-.59-1.43-.59-.52 0-1.04.2-1.43.59L10.3 9.45l-7.72 7.72c-.78.78-.78 2.05 0 2.83L4 21.41c.39.39.9.59 1.41.59.51 0 1.02-.2 1.41-.59l7.78-7.78 2.81-2.81c.8-.78.8-2.07 0-2.86zM5.41 20L4 18.59l7.72-7.72 1.47 1.35L5.41 20z\"/>\n",
              "  </svg>\n",
              "      </button>\n",
              "      \n",
              "  <style>\n",
              "    .colab-df-container {\n",
              "      display:flex;\n",
              "      flex-wrap:wrap;\n",
              "      gap: 12px;\n",
              "    }\n",
              "\n",
              "    .colab-df-convert {\n",
              "      background-color: #E8F0FE;\n",
              "      border: none;\n",
              "      border-radius: 50%;\n",
              "      cursor: pointer;\n",
              "      display: none;\n",
              "      fill: #1967D2;\n",
              "      height: 32px;\n",
              "      padding: 0 0 0 0;\n",
              "      width: 32px;\n",
              "    }\n",
              "\n",
              "    .colab-df-convert:hover {\n",
              "      background-color: #E2EBFA;\n",
              "      box-shadow: 0px 1px 2px rgba(60, 64, 67, 0.3), 0px 1px 3px 1px rgba(60, 64, 67, 0.15);\n",
              "      fill: #174EA6;\n",
              "    }\n",
              "\n",
              "    [theme=dark] .colab-df-convert {\n",
              "      background-color: #3B4455;\n",
              "      fill: #D2E3FC;\n",
              "    }\n",
              "\n",
              "    [theme=dark] .colab-df-convert:hover {\n",
              "      background-color: #434B5C;\n",
              "      box-shadow: 0px 1px 3px 1px rgba(0, 0, 0, 0.15);\n",
              "      filter: drop-shadow(0px 1px 2px rgba(0, 0, 0, 0.3));\n",
              "      fill: #FFFFFF;\n",
              "    }\n",
              "  </style>\n",
              "\n",
              "      <script>\n",
              "        const buttonEl =\n",
              "          document.querySelector('#df-4d8e4ea2-09ba-4397-be00-21869d0ee9c7 button.colab-df-convert');\n",
              "        buttonEl.style.display =\n",
              "          google.colab.kernel.accessAllowed ? 'block' : 'none';\n",
              "\n",
              "        async function convertToInteractive(key) {\n",
              "          const element = document.querySelector('#df-4d8e4ea2-09ba-4397-be00-21869d0ee9c7');\n",
              "          const dataTable =\n",
              "            await google.colab.kernel.invokeFunction('convertToInteractive',\n",
              "                                                     [key], {});\n",
              "          if (!dataTable) return;\n",
              "\n",
              "          const docLinkHtml = 'Like what you see? Visit the ' +\n",
              "            '<a target=\"_blank\" href=https://colab.research.google.com/notebooks/data_table.ipynb>data table notebook</a>'\n",
              "            + ' to learn more about interactive tables.';\n",
              "          element.innerHTML = '';\n",
              "          dataTable['output_type'] = 'display_data';\n",
              "          await google.colab.output.renderOutput(dataTable, element);\n",
              "          const docLink = document.createElement('div');\n",
              "          docLink.innerHTML = docLinkHtml;\n",
              "          element.appendChild(docLink);\n",
              "        }\n",
              "      </script>\n",
              "    </div>\n",
              "  </div>\n",
              "  "
            ]
          },
          "metadata": {},
          "execution_count": 21
        }
      ]
    },
    {
      "cell_type": "markdown",
      "metadata": {
        "id": "t7ZCDWaksZxj"
      },
      "source": [
        "Above we have the top 10 papers of deep learning ranked by citations per year. It is incredible that some papers are very far away from the original rank. For example, the fourth most cited paper per year is originally the number 41 in the original rank of Google! "
      ]
    },
    {
      "cell_type": "markdown",
      "metadata": {
        "id": "-xx5GEHuybPd"
      },
      "source": [
        "Finally, let's download the CSV results (make sure to update the CSV name here as well):"
      ]
    },
    {
      "cell_type": "code",
      "metadata": {
        "id": "Svc1GCM2yaLP",
        "outputId": "72a2ddbe-b5d2-4a87-e2db-9acffb809394",
        "colab": {
          "base_uri": "https://localhost:8080/",
          "height": 17
        }
      },
      "source": [
        "from google.colab import files\n",
        "files.download('low_resource_language_parsers.csv') # Update the file name here"
      ],
      "execution_count": 22,
      "outputs": [
        {
          "output_type": "display_data",
          "data": {
            "text/plain": [
              "<IPython.core.display.Javascript object>"
            ],
            "application/javascript": [
              "\n",
              "    async function download(id, filename, size) {\n",
              "      if (!google.colab.kernel.accessAllowed) {\n",
              "        return;\n",
              "      }\n",
              "      const div = document.createElement('div');\n",
              "      const label = document.createElement('label');\n",
              "      label.textContent = `Downloading \"${filename}\": `;\n",
              "      div.appendChild(label);\n",
              "      const progress = document.createElement('progress');\n",
              "      progress.max = size;\n",
              "      div.appendChild(progress);\n",
              "      document.body.appendChild(div);\n",
              "\n",
              "      const buffers = [];\n",
              "      let downloaded = 0;\n",
              "\n",
              "      const channel = await google.colab.kernel.comms.open(id);\n",
              "      // Send a message to notify the kernel that we're ready.\n",
              "      channel.send({})\n",
              "\n",
              "      for await (const message of channel.messages) {\n",
              "        // Send a message to notify the kernel that we're ready.\n",
              "        channel.send({})\n",
              "        if (message.buffers) {\n",
              "          for (const buffer of message.buffers) {\n",
              "            buffers.push(buffer);\n",
              "            downloaded += buffer.byteLength;\n",
              "            progress.value = downloaded;\n",
              "          }\n",
              "        }\n",
              "      }\n",
              "      const blob = new Blob(buffers, {type: 'application/binary'});\n",
              "      const a = document.createElement('a');\n",
              "      a.href = window.URL.createObjectURL(blob);\n",
              "      a.download = filename;\n",
              "      div.appendChild(a);\n",
              "      a.click();\n",
              "      div.remove();\n",
              "    }\n",
              "  "
            ]
          },
          "metadata": {}
        },
        {
          "output_type": "display_data",
          "data": {
            "text/plain": [
              "<IPython.core.display.Javascript object>"
            ],
            "application/javascript": [
              "download(\"download_613ed198-94f7-45e8-b47d-4bfb391172fd\", \"low_resource_language_parsers.csv\", 21101)"
            ]
          },
          "metadata": {}
        }
      ]
    },
    {
      "cell_type": "markdown",
      "metadata": {
        "id": "09OFwDdM2K5h"
      },
      "source": [
        "OBS: If you get an error running the previous line, you can download the file manually by clicking in the left pane icon (below the `+ Code` button), then click in files, expand the `sort-google-scholar` folder, right click and download in the csv file:\n",
        "\n",
        "![](https://i.stack.imgur.com/KKJXFm.png)"
      ]
    },
    {
      "cell_type": "code",
      "metadata": {
        "id": "pM_Bb4MH14eI"
      },
      "source": [],
      "execution_count": 22,
      "outputs": []
    }
  ]
}
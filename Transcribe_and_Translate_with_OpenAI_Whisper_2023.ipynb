{
  "nbformat": 4,
  "nbformat_minor": 0,
  "metadata": {
    "colab": {
      "provenance": [],
      "toc_visible": true,
      "include_colab_link": true
    },
    "kernelspec": {
      "name": "python3",
      "display_name": "Python 3"
    },
    "language_info": {
      "name": "python"
    },
    "accelerator": "GPU"
  },
  "cells": [
    {
      "cell_type": "markdown",
      "metadata": {
        "id": "view-in-github",
        "colab_type": "text"
      },
      "source": [
        "<a href=\"https://colab.research.google.com/github/Kaarimu/whisper_swahili/blob/main/Transcribe_and_Translate_with_OpenAI_Whisper_2023.ipynb\" target=\"_parent\"><img src=\"https://colab.research.google.com/assets/colab-badge.svg\" alt=\"Open In Colab\"/></a>"
      ]
    },
    {
      "cell_type": "markdown",
      "source": [
        "By [Jason Boog](https://medium.com/@jasonboog)\n",
        "\n",
        "OpenAI's Whisper is a general-purpose speech recognition model that you can use to transcribe or translate audio files. You can use Whisper for free on a GPU using this Google Colab notebook.\n",
        "\n",
        "Thanks to ByteXD for [this video introduction](https://youtu.be/-KyqrwdTsN0).\n",
        "\n",
        "For more information about Whisper, you can visit [this GitHub repository](https://github.com/openai/whisper). \n",
        "\n",
        "Before we get started, save a copy of this Google Colab notebook to your Google Drive. Just open the File menu and choose \"Save a Copy in Drive.\"\n",
        "\n",
        "Open your copy of the Colab notebook on Google Chrome, and follow these steps to transcribe and translate. "
      ],
      "metadata": {
        "id": "sICPfKnZCTVZ"
      }
    },
    {
      "cell_type": "markdown",
      "source": [
        "# Step One: Install Whisper\n",
        "\n",
        "This step will install the latest commit from the OpenAI repository on Github. Just run the cell below to install.\n",
        "\n"
      ],
      "metadata": {
        "id": "DEZezug-DzPB"
      }
    },
    {
      "cell_type": "code",
      "execution_count": null,
      "metadata": {
        "colab": {
          "base_uri": "https://localhost:8080/"
        },
        "id": "XRRPAS8t1DXJ",
        "outputId": "c1fbb58f-459c-439e-8e50-1cd920d60da5"
      },
      "outputs": [
        {
          "output_type": "stream",
          "name": "stdout",
          "text": [
            "Looking in indexes: https://pypi.org/simple, https://us-python.pkg.dev/colab-wheels/public/simple/\n",
            "Collecting git+https://github.com/openai/whisper.git\n",
            "  Cloning https://github.com/openai/whisper.git to /tmp/pip-req-build-891o89i0\n",
            "  Running command git clone -q https://github.com/openai/whisper.git /tmp/pip-req-build-891o89i0\n",
            "Requirement already satisfied: numpy in /usr/local/lib/python3.8/dist-packages (from whisper==1.0) (1.21.6)\n",
            "Requirement already satisfied: torch in /usr/local/lib/python3.8/dist-packages (from whisper==1.0) (1.12.1+cu113)\n",
            "Requirement already satisfied: tqdm in /usr/local/lib/python3.8/dist-packages (from whisper==1.0) (4.64.1)\n",
            "Requirement already satisfied: more-itertools in /usr/local/lib/python3.8/dist-packages (from whisper==1.0) (9.0.0)\n",
            "Requirement already satisfied: transformers>=4.19.0 in /usr/local/lib/python3.8/dist-packages (from whisper==1.0) (4.25.1)\n",
            "Requirement already satisfied: ffmpeg-python==0.2.0 in /usr/local/lib/python3.8/dist-packages (from whisper==1.0) (0.2.0)\n",
            "Requirement already satisfied: future in /usr/local/lib/python3.8/dist-packages (from ffmpeg-python==0.2.0->whisper==1.0) (0.16.0)\n",
            "Requirement already satisfied: tokenizers!=0.11.3,<0.14,>=0.11.1 in /usr/local/lib/python3.8/dist-packages (from transformers>=4.19.0->whisper==1.0) (0.13.2)\n",
            "Requirement already satisfied: packaging>=20.0 in /usr/local/lib/python3.8/dist-packages (from transformers>=4.19.0->whisper==1.0) (21.3)\n",
            "Requirement already satisfied: regex!=2019.12.17 in /usr/local/lib/python3.8/dist-packages (from transformers>=4.19.0->whisper==1.0) (2022.6.2)\n",
            "Requirement already satisfied: pyyaml>=5.1 in /usr/local/lib/python3.8/dist-packages (from transformers>=4.19.0->whisper==1.0) (6.0)\n",
            "Requirement already satisfied: requests in /usr/local/lib/python3.8/dist-packages (from transformers>=4.19.0->whisper==1.0) (2.23.0)\n",
            "Requirement already satisfied: filelock in /usr/local/lib/python3.8/dist-packages (from transformers>=4.19.0->whisper==1.0) (3.8.0)\n",
            "Requirement already satisfied: huggingface-hub<1.0,>=0.10.0 in /usr/local/lib/python3.8/dist-packages (from transformers>=4.19.0->whisper==1.0) (0.11.1)\n",
            "Requirement already satisfied: typing-extensions>=3.7.4.3 in /usr/local/lib/python3.8/dist-packages (from huggingface-hub<1.0,>=0.10.0->transformers>=4.19.0->whisper==1.0) (4.1.1)\n",
            "Requirement already satisfied: pyparsing!=3.0.5,>=2.0.2 in /usr/local/lib/python3.8/dist-packages (from packaging>=20.0->transformers>=4.19.0->whisper==1.0) (3.0.9)\n",
            "Requirement already satisfied: idna<3,>=2.5 in /usr/local/lib/python3.8/dist-packages (from requests->transformers>=4.19.0->whisper==1.0) (2.10)\n",
            "Requirement already satisfied: urllib3!=1.25.0,!=1.25.1,<1.26,>=1.21.1 in /usr/local/lib/python3.8/dist-packages (from requests->transformers>=4.19.0->whisper==1.0) (1.24.3)\n",
            "Requirement already satisfied: chardet<4,>=3.0.2 in /usr/local/lib/python3.8/dist-packages (from requests->transformers>=4.19.0->whisper==1.0) (3.0.4)\n",
            "Requirement already satisfied: certifi>=2017.4.17 in /usr/local/lib/python3.8/dist-packages (from requests->transformers>=4.19.0->whisper==1.0) (2022.9.24)\n"
          ]
        }
      ],
      "source": [
        "!pip install git+https://github.com/openai/whisper.git"
      ]
    },
    {
      "cell_type": "markdown",
      "source": [
        "# Step Two: Install ffmpeg\n",
        "\n",
        "You need to install [ffmpeg](https://ffmpeg.org), a cross-platform solution to record, convert and stream audio and video. Just run the cell to install."
      ],
      "metadata": {
        "id": "2E86sIkRE96A"
      }
    },
    {
      "cell_type": "code",
      "source": [
        "!sudo apt update && sudo apt install ffmpeg"
      ],
      "metadata": {
        "colab": {
          "base_uri": "https://localhost:8080/"
        },
        "id": "-YsDcsci1xRE",
        "outputId": "ccb66703-7a92-4171-8419-65404fcae28a"
      },
      "execution_count": null,
      "outputs": [
        {
          "output_type": "stream",
          "name": "stdout",
          "text": [
            "\u001b[33m\r0% [Working]\u001b[0m\r            \rHit:1 https://cloud.r-project.org/bin/linux/ubuntu bionic-cran40/ InRelease\n",
            "\u001b[33m\r0% [Connecting to archive.ubuntu.com (185.125.190.39)] [Connecting to security.\u001b[0m\u001b[33m\r0% [1 InRelease gpgv 3,626 B] [Connecting to archive.ubuntu.com (185.125.190.39\u001b[0m\r                                                                               \rIgn:2 https://developer.download.nvidia.com/compute/machine-learning/repos/ubuntu1804/x86_64  InRelease\n",
            "Hit:3 https://developer.download.nvidia.com/compute/cuda/repos/ubuntu1804/x86_64  InRelease\n",
            "Hit:4 https://developer.download.nvidia.com/compute/machine-learning/repos/ubuntu1804/x86_64  Release\n",
            "Hit:5 http://security.ubuntu.com/ubuntu bionic-security InRelease\n",
            "Hit:6 http://archive.ubuntu.com/ubuntu bionic InRelease\n",
            "Hit:7 http://ppa.launchpad.net/c2d4u.team/c2d4u4.0+/ubuntu bionic InRelease\n",
            "Hit:8 http://archive.ubuntu.com/ubuntu bionic-updates InRelease\n",
            "Hit:9 http://archive.ubuntu.com/ubuntu bionic-backports InRelease\n",
            "Hit:10 http://ppa.launchpad.net/cran/libgit2/ubuntu bionic InRelease\n",
            "Hit:12 http://ppa.launchpad.net/deadsnakes/ppa/ubuntu bionic InRelease\n",
            "Hit:13 http://ppa.launchpad.net/graphics-drivers/ppa/ubuntu bionic InRelease\n",
            "Reading package lists... Done\n",
            "Building dependency tree       \n",
            "Reading state information... Done\n",
            "16 packages can be upgraded. Run 'apt list --upgradable' to see them.\n",
            "Reading package lists... Done\n",
            "Building dependency tree       \n",
            "Reading state information... Done\n",
            "ffmpeg is already the newest version (7:3.4.11-0ubuntu0.1).\n",
            "The following package was automatically installed and is no longer required:\n",
            "  libnvidia-common-460\n",
            "Use 'sudo apt autoremove' to remove it.\n",
            "0 upgraded, 0 newly installed, 0 to remove and 16 not upgraded.\n"
          ]
        }
      ]
    },
    {
      "cell_type": "markdown",
      "source": [
        "# Step Three: Upload Your File\n",
        "\n",
        "Open the file folder on the left-hand corner of your Colab notebook. Drag the .mp3 you would like to transcribe into the \"Files\" section. \n",
        "\n",
        "This will upload the audio to your your Google Drive. Here's what it looks like once you've uploaded a file:\n",
        "\n",
        "![Colab Files 23.png](data:image/png;base64,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)\n",
        "\n",
        "\n"
      ],
      "metadata": {
        "id": "FHH08HaDFQEs"
      }
    },
    {
      "cell_type": "markdown",
      "source": [
        "# Step Four: Transcribe\n",
        "\n",
        "To transcribe an .mp3, simply copy and paste the title of your .mp3 file into the command line below and run the cell.\n",
        "\n",
        "Don't forget the quotation marks! "
      ],
      "metadata": {
        "id": "D7j3VhEsGc4G"
      }
    },
    {
      "cell_type": "code",
      "source": [
        "!whisper \"Oh Captain My Captain by Walt Whitman.mp3\" --model medium"
      ],
      "metadata": {
        "colab": {
          "base_uri": "https://localhost:8080/"
        },
        "id": "-1pP466t8kpv",
        "outputId": "9d9000be-202a-4c9b-9a11-f2c137deaee4"
      },
      "execution_count": null,
      "outputs": [
        {
          "output_type": "stream",
          "name": "stdout",
          "text": [
            "tcmalloc: large alloc 1528012800 bytes == 0xaa26000 @  0x7effa69841e7 0x4d3280 0x5de162 0x60fd9f 0x5a9e9b 0x46eb22 0x616b6b 0x4f7ada 0x49ca7c 0x5d7c18 0x49ec69 0x55e571 0x5d7cf1 0x49ced5 0x5d7c18 0x49ec69 0x55e571 0x55ef23 0x642140 0x6421be 0x644688 0x644c2c 0x6776be 0x677889 0x7effa6581c87 0x5e0f1a\n",
            "Detecting language using up to the first 30 seconds. Use `--language` to specify the language\n",
            "Detected language: English\n",
            "[00:00.000 --> 00:04.000]  Oh Captain, My Captain by Walt Whitman\n",
            "[00:04.000 --> 00:09.000]  From the World's Best Poetry of Volume 7 Descriptive and Narrative Part 1\n",
            "[00:09.000 --> 00:13.000]  Read for LibriVox.org by Thomas Peter\n",
            "[00:13.000 --> 00:17.000]  Oh Captain, My Captain\n",
            "[00:17.000 --> 00:20.000]  Oh Captain, My Captain\n",
            "[00:20.000 --> 00:22.000]  Our fearful trip is done\n",
            "[00:22.000 --> 00:25.000]  The ship has weathered every wreck\n",
            "[00:25.000 --> 00:28.000]  The prize we sought is won\n",
            "[00:28.000 --> 00:31.000]  The port is near, the bells I hear\n",
            "[00:31.000 --> 00:33.000]  The people all exalting\n",
            "[00:33.000 --> 00:36.000]  While follow eyes the steady keel\n",
            "[00:36.000 --> 00:39.000]  The vessel grim and daring\n",
            "[00:39.000 --> 00:43.000]  But oh heart, heart, heart\n",
            "[00:43.000 --> 00:45.000]  Oh the bleeding drops of red\n",
            "[00:45.000 --> 00:48.000]  Where on the deck my Captain lies\n",
            "[00:48.000 --> 00:52.000]  Fallen cold and dead\n",
            "[00:52.000 --> 00:55.000]  Oh Captain, My Captain\n",
            "[00:55.000 --> 00:58.000]  Rise up and hear the bells\n",
            "[00:58.000 --> 01:02.000]  Rise up, for you the flag is flung\n",
            "[01:02.000 --> 01:05.000]  For you the bugle trills\n",
            "[01:05.000 --> 01:08.000]  For you bouquets and ribboned wreaths\n",
            "[01:08.000 --> 01:10.000]  For you the shores are crowding\n",
            "[01:10.000 --> 01:13.000]  For you they call, the swaying mass\n",
            "[01:13.000 --> 01:16.000]  Their eager face is turning\n",
            "[01:16.000 --> 01:18.000]  Here Captain, dear father\n",
            "[01:18.000 --> 01:21.000]  This arm beneath your head\n",
            "[01:21.000 --> 01:24.000]  It is some dream that on the deck\n",
            "[01:24.000 --> 01:28.000]  You've fallen cold and dead\n",
            "[01:28.000 --> 01:31.000]  My Captain does not answer\n",
            "[01:31.000 --> 01:34.000]  His lips are pale and still\n",
            "[01:34.000 --> 01:37.000]  My father does not feel my arm\n",
            "[01:37.000 --> 01:40.000]  He has no pulse nor will\n",
            "[01:40.000 --> 01:43.000]  The ship is anchored safe and sound\n",
            "[01:43.000 --> 01:46.000]  Its voyage closed and done\n",
            "[01:46.000 --> 01:48.000]  From fearful trip the victor ship\n",
            "[01:48.000 --> 01:51.000]  Comes in with object won\n",
            "[01:51.000 --> 01:54.000]  Exalt oh shores and ring oh bells\n",
            "[01:54.000 --> 01:57.000]  But I, with mournful tread\n",
            "[01:57.000 --> 02:01.000]  Walk the deck my Captain lies\n",
            "[02:01.000 --> 02:22.000]  Fallen cold and dead\n"
          ]
        }
      ]
    },
    {
      "cell_type": "markdown",
      "source": [
        "# Step Five: Translate\n",
        "\n",
        "To translate an .mp3, simply copy and paste the title of your .mp3 file into the command line below and run the cell. \n",
        "\n",
        "You can change the language as needed in the command line, and English is the default output. Don't forget the quotation marks! \n",
        "\n",
        "Note: I created and successfully ran every step of this notebook with my Colab Pro subscription. \n",
        "\n",
        "On the basic Google Colab plan, all the steps worked except \"Step Five.\" This final step kept getting a \"Runtime discontinued\" error on the basic plan."
      ],
      "metadata": {
        "id": "TbeClltmKIEZ"
      }
    },
    {
      "cell_type": "code",
      "source": [
        "!whisper \"librodepoemas_04_garcialorca.mp3\" --task translate"
      ],
      "metadata": {
        "colab": {
          "base_uri": "https://localhost:8080/"
        },
        "id": "DnZqS_5D2lhp",
        "outputId": "04b99bb2-d10b-41ba-a7f7-cdf4dce88481"
      },
      "execution_count": null,
      "outputs": [
        {
          "output_type": "stream",
          "name": "stdout",
          "text": [
            "100%|████████████████████████████████████████| 461M/461M [00:02<00:00, 199MiB/s]\n",
            "Detecting language using up to the first 30 seconds. Use `--language` to specify the language\n",
            "Detected language: Spanish\n",
            "[00:00.000 --> 00:09.660]  Chapter 4 of the book of poems by Federico García Lorca. This recording of LibriVox is in the public domain, recorded by Kendal Riggans.\n",
            "[00:09.660 --> 00:14.400]  The Diamond. November 1920. Granada.\n",
            "[00:14.400 --> 00:18.000]  The diamond of a star has scratched the bottom of the sky.\n",
            "[00:18.000 --> 00:26.240]  He descends from the light he wants to escape from the universe and runs away from the huge nest where the prisoner was, without knowing that he has taken a chain in the neck.\n",
            "[00:26.240 --> 00:32.080]  Extraordinary hunters are hunting lighters, sissnes of brass silver in the water of silence.\n",
            "[00:32.080 --> 00:38.800]  The children's trunks recite their cartilage, it is the teacher, an old chopper that moves, calm his dead arms.\n",
            "[00:38.800 --> 00:42.920]  Now in the distant mountain all the dead will play, at the barrage.\n",
            "[00:42.920 --> 00:45.760]  It is so sad life in the cemetery.\n",
            "[00:45.760 --> 00:54.520]  Rana, start your singing, scream, get out of your hole, make a sound forest with your flutes, I'll go back to my house and calm down.\n",
            "[01:10.760 --> 01:25.320]  Together your red mouth with mine, or star in the gypsy, under the solar aura of the afternoon, I will bite the apple. In the olive garden of La Colina, there is a purple tower, the color of your peasant meat, which tastes good and golden.\n",
            "[01:25.320 --> 01:42.160]  You offer me, in your burnt body, the divine food that gives flowers to the blinded chaos and the lighters to the wind. How do you submit to me, Luz Morena? Why did you tell me full of love your sex of Azucena and the rumor of your hymns? It was not because of my sad figure, or my poor peasant pigeons.\n",
            "[01:42.160 --> 01:54.640]  It gave you the sadest case of my life, Marchita de Cantares. How have you not preferred my laments, the smelly, smelly, and a bloody peasant, slow in love and beautiful? Danai, from the placer, you are with me.\n",
            "[01:54.640 --> 02:12.680]  Feminino Silvano, your kisses smell like wheat, dry from the summer. En turbiamen los ojos con tu canto. Deja tu cabellera extendida y solemne como un manto, te sombra en la pradera. Pintame con tu boca ensangrentada a un cielo del amor, en un fondo de carne la morada estrella del dolor.\n",
            "[02:12.680 --> 02:25.920]  Mi pegazo andalus está cautivo de tus ojos abiertos, volará de solado y pensativo cuando los vea muertos. Y aunque no me quisieras, te querría por tu mirar sombrío, como quiere la londra al nuevo día, solo por el rocío.\n",
            "[02:25.920 --> 02:34.760]  Junto a tu roja boca con la mía, o estrella la gitana, déjame bajar un medio día consumir la manzana.\n",
            "[02:34.760 --> 02:51.080]  Cantos nuevos, agosto de 1920. Vega de su jaina. Dice la tarde. Tengo sed de sombra. Dice la luna. Yo, sed de luceros. La fuente cristalina pide labios y suspiro el viento.\n",
            "[02:51.080 --> 03:10.640]  Yo tengo sed de aromas y de risas. Sete cantar es nuevo, sin lunas y sin irios, y sin amores muertos. Un cantar de mañana que estremezca a los remanzos quietos del porvenir y llene de esperanza sus ondas y sus hienos. Un cantar luminoso y reposado pleno de pensamiento, virginal de tristezas y de angustias y virginal de ensueños.\n",
            "[03:10.640 --> 03:25.440]  Cantar sin carne lírica que llene de risas al silencio. Una bandada de palmas ciegas lanzadas al misterio. Cantar que vaya al alma de las cosas y el alma de los vientos y que descanse al fin en la alegría ante el corazón eterno.\n",
            "[03:25.440 --> 03:41.920]  Alba, abril de 1919. Granada. Mi corazón oprimido siente junto a la alburada el dolor de sus amores y el sueño de las distancias. La luz de la aurora lleva semilleros de nostalgia y la tristezas sin ojos de la médula del alma.\n",
            "[03:41.920 --> 04:07.920]  La gran tumba de la noche su negro velo levanta para ocultar con el día la inmensa cumbre estrellada. ¿Qué haré yo sobre estos campos cogiendo nidos y derramas rodeado de la aurora y llena de noche en la alma? ¿Qué haré si tienes tus ojos muertos a las luces claras y no ha de sentir mi carne el calor de tus miradas? ¿Por qué te perdí por siempre en aquella tarde clara? Hoy mi pecho está reseco como una estrella apagada.\n",
            "[04:07.920 --> 04:14.040]  El Presentimiento. Agosto de 1920. Vega de su Jaira.\n",
            "[04:14.040 --> 04:41.240]  El Presentimiento es la sonde del alma, en el misterio, nariz del corazón, palo de ciego, que exploren la tiniebla del tiempo. Ayer es lo marchito, el sentimiento y el campo funeral del recuerdo. Ante ayer es lo muerto, madriguera de ideas moribundas de pegazos sin freno, malezas de memorias y desiertos perdidos en la niebla de los sueños. Nada turba los siglos pasados, no podemos arrancar un suspiro de lo viejo.\n",
            "[04:41.240 --> 05:09.640]  El pasado se pone su coraza de hierro y tapa sus oídos con algodón del viento. Nunca podrá arrancarsele un secreto. Sus músculos de siglos y su cerebro de marchitas ideas en feto no darán el licor que necesita el corazón sediento, pero el niño futuro nos dirá algún secreto cuando juegue en su cama de luceros, y es fácil engañarle, por eso demos la condulsura a nuestro seno, que el topo silencioso del Presentimiento nos traerá sus sonajas cuando se esté durmiendo.\n",
            "[05:09.640 --> 05:11.640]  End of chapter 4\n"
          ]
        }
      ]
    },
    {
      "cell_type": "markdown",
      "source": [
        "# License\n",
        "\n",
        "MIT License\n",
        "\n",
        "Copyright (c) 2022 Jason Boog\n",
        "\n",
        "Permission is hereby granted, free of charge, to any person obtaining a copy of this software and associated documentation files (the \"Software\"), to deal in the Software without restriction, including without limitation the rights to use, copy, modify, merge, publish, distribute, sublicense, and/or sell copies of the Software, and to permit persons to whom the Software is furnished to do so, subject to the following conditions:\n",
        "\n",
        "The above copyright notice and this permission notice shall be included in all copies or substantial portions of the Software.\n",
        "\n",
        "THE SOFTWARE IS PROVIDED \"AS IS\", WITHOUT WARRANTY OF ANY KIND, EXPRESS OR IMPLIED, INCLUDING BUT NOT LIMITED TO THE WARRANTIES OF MERCHANTABILITY, FITNESS FOR A PARTICULAR PURPOSE AND NONINFRINGEMENT. IN NO EVENT SHALL THE AUTHORS OR COPYRIGHT HOLDERS BE LIABLE FOR ANY CLAIM, DAMAGES OR OTHER LIABILITY, WHETHER IN AN ACTION OF CONTRACT, TORT OR OTHERWISE, ARISING FROM, OUT OF OR IN CONNECTION WITH THE SOFTWARE OR THE USE OR OTHER DEALINGS IN THE SOFTWARE."
      ],
      "metadata": {
        "id": "L9jzU75GL1N3"
      }
    }
  ]
}
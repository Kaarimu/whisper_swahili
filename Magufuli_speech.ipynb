{
  "nbformat": 4,
  "nbformat_minor": 0,
  "metadata": {
    "colab": {
      "provenance": [],
      "authorship_tag": "ABX9TyOJxokBowCWMG09Ebb7WBw9",
      "include_colab_link": true
    },
    "kernelspec": {
      "name": "python3",
      "display_name": "Python 3"
    },
    "language_info": {
      "name": "python"
    },
    "accelerator": "GPU",
    "gpuClass": "standard"
  },
  "cells": [
    {
      "cell_type": "markdown",
      "metadata": {
        "id": "view-in-github",
        "colab_type": "text"
      },
      "source": [
        "<a href=\"https://colab.research.google.com/github/Kaarimu/whisper_swahili/blob/main/Magufuli_speech.ipynb\" target=\"_parent\"><img src=\"https://colab.research.google.com/assets/colab-badge.svg\" alt=\"Open In Colab\"/></a>"
      ]
    },
    {
      "cell_type": "code",
      "source": [
        "!pip install git+https://github.com/openai/whisper.git -q\n"
      ],
      "metadata": {
        "colab": {
          "base_uri": "https://localhost:8080/"
        },
        "id": "FfWRmb8dwup-",
        "outputId": "6f553216-d45f-4935-d725-39d402f4415b"
      },
      "execution_count": 1,
      "outputs": [
        {
          "output_type": "stream",
          "name": "stdout",
          "text": [
            "  Preparing metadata (setup.py) ... \u001b[?25l\u001b[?25hdone\n",
            "\u001b[2K     \u001b[90m━━━━━━━━━━━━━━━━━━━━━━━━━━━━━━━━━━━━━━━━\u001b[0m \u001b[32m5.8/5.8 MB\u001b[0m \u001b[31m52.0 MB/s\u001b[0m eta \u001b[36m0:00:00\u001b[0m\n",
            "\u001b[2K     \u001b[90m━━━━━━━━━━━━━━━━━━━━━━━━━━━━━━━━━━━━━━\u001b[0m \u001b[32m182.4/182.4 KB\u001b[0m \u001b[31m20.3 MB/s\u001b[0m eta \u001b[36m0:00:00\u001b[0m\n",
            "\u001b[2K     \u001b[90m━━━━━━━━━━━━━━━━━━━━━━━━━━━━━━━━━━━━━━━━\u001b[0m \u001b[32m7.6/7.6 MB\u001b[0m \u001b[31m80.8 MB/s\u001b[0m eta \u001b[36m0:00:00\u001b[0m\n",
            "\u001b[?25h  Building wheel for whisper (setup.py) ... \u001b[?25l\u001b[?25hdone\n"
          ]
        }
      ]
    },
    {
      "cell_type": "code",
      "source": [
        "!nvidia-smi -L"
      ],
      "metadata": {
        "id": "eW3KG76YTbj5",
        "colab": {
          "base_uri": "https://localhost:8080/"
        },
        "outputId": "1f2f0c00-6fc0-40b8-f6fa-d6b8164f4d03"
      },
      "execution_count": 2,
      "outputs": [
        {
          "output_type": "stream",
          "name": "stdout",
          "text": [
            "GPU 0: Tesla T4 (UUID: GPU-dcdce71b-f0b6-18a9-a53c-87cd5ba07014)\n"
          ]
        }
      ]
    },
    {
      "cell_type": "code",
      "source": [
        "!pip install pytube -q"
      ],
      "metadata": {
        "id": "wDkfUY_PJxip",
        "colab": {
          "base_uri": "https://localhost:8080/"
        },
        "outputId": "cbd47023-50cf-46a4-99c9-3b643bb1c1d1"
      },
      "execution_count": 3,
      "outputs": [
        {
          "output_type": "stream",
          "name": "stdout",
          "text": [
            "\u001b[?25l     \u001b[90m━━━━━━━━━━━━━━━━━━━━━━━━━━━━━━━━━━━━━━━━\u001b[0m \u001b[32m0.0/57.0 KB\u001b[0m \u001b[31m?\u001b[0m eta \u001b[36m-:--:--\u001b[0m\r\u001b[2K     \u001b[90m━━━━━━━━━━━━━━━━━━━━━━━━━━━━━━━━━━━━━━━━\u001b[0m \u001b[32m57.0/57.0 KB\u001b[0m \u001b[31m3.7 MB/s\u001b[0m eta \u001b[36m0:00:00\u001b[0m\n",
            "\u001b[?25h"
          ]
        }
      ]
    },
    {
      "cell_type": "code",
      "source": [
        "import whisper\n",
        "from pytube import YouTube"
      ],
      "metadata": {
        "id": "7tMC7-hcJ-5Q"
      },
      "execution_count": 4,
      "outputs": []
    },
    {
      "cell_type": "code",
      "source": [
        "model = whisper.load_model('large-v2')"
      ],
      "metadata": {
        "id": "dsDvCjk1KNi0",
        "colab": {
          "base_uri": "https://localhost:8080/"
        },
        "outputId": "fc524148-1e6c-4c23-bdc9-7e45fc095be5"
      },
      "execution_count": 6,
      "outputs": [
        {
          "output_type": "stream",
          "name": "stderr",
          "text": [
            "100%|██████████████████████████████████████| 2.87G/2.87G [00:26<00:00, 114MiB/s]\n"
          ]
        }
      ]
    },
    {
      "cell_type": "code",
      "source": [
        "youtube_video_url = \"https://youtu.be/aAGIq02j5WI\"\n",
        "youtube_video = YouTube(youtube_video_url)"
      ],
      "metadata": {
        "id": "RdGhTl1-KUsC"
      },
      "execution_count": 7,
      "outputs": []
    },
    {
      "cell_type": "code",
      "source": [
        "youtube_video.title\n"
      ],
      "metadata": {
        "colab": {
          "base_uri": "https://localhost:8080/",
          "height": 36
        },
        "id": "4Y63_HJfLI2U",
        "outputId": "c5f33e22-17ab-48ce-a2a6-3ea181272706"
      },
      "execution_count": 8,
      "outputs": [
        {
          "output_type": "execute_result",
          "data": {
            "text/plain": [
              "\"Speech by Tanzania's President John Magufuli at State House, Nairobi\""
            ],
            "application/vnd.google.colaboratory.intrinsic+json": {
              "type": "string"
            }
          },
          "metadata": {},
          "execution_count": 8
        }
      ]
    },
    {
      "cell_type": "code",
      "source": [
        "dir(youtube_video)"
      ],
      "metadata": {
        "colab": {
          "base_uri": "https://localhost:8080/"
        },
        "id": "DIpUKEUhmwvG",
        "outputId": "62246b95-5098-4506-bc2f-60867ad64008"
      },
      "execution_count": 9,
      "outputs": [
        {
          "output_type": "execute_result",
          "data": {
            "text/plain": [
              "['__class__',\n",
              " '__delattr__',\n",
              " '__dict__',\n",
              " '__dir__',\n",
              " '__doc__',\n",
              " '__eq__',\n",
              " '__format__',\n",
              " '__ge__',\n",
              " '__getattribute__',\n",
              " '__gt__',\n",
              " '__hash__',\n",
              " '__init__',\n",
              " '__init_subclass__',\n",
              " '__le__',\n",
              " '__lt__',\n",
              " '__module__',\n",
              " '__ne__',\n",
              " '__new__',\n",
              " '__reduce__',\n",
              " '__reduce_ex__',\n",
              " '__repr__',\n",
              " '__setattr__',\n",
              " '__sizeof__',\n",
              " '__str__',\n",
              " '__subclasshook__',\n",
              " '__weakref__',\n",
              " '_age_restricted',\n",
              " '_author',\n",
              " '_embed_html',\n",
              " '_fmt_streams',\n",
              " '_initial_data',\n",
              " '_js',\n",
              " '_js_url',\n",
              " '_metadata',\n",
              " '_player_config_args',\n",
              " '_publish_date',\n",
              " '_title',\n",
              " '_vid_info',\n",
              " '_watch_html',\n",
              " 'age_restricted',\n",
              " 'allow_oauth_cache',\n",
              " 'author',\n",
              " 'bypass_age_gate',\n",
              " 'caption_tracks',\n",
              " 'captions',\n",
              " 'channel_id',\n",
              " 'channel_url',\n",
              " 'check_availability',\n",
              " 'description',\n",
              " 'embed_html',\n",
              " 'embed_url',\n",
              " 'fmt_streams',\n",
              " 'from_id',\n",
              " 'initial_data',\n",
              " 'js',\n",
              " 'js_url',\n",
              " 'keywords',\n",
              " 'length',\n",
              " 'metadata',\n",
              " 'publish_date',\n",
              " 'rating',\n",
              " 'register_on_complete_callback',\n",
              " 'register_on_progress_callback',\n",
              " 'stream_monostate',\n",
              " 'streaming_data',\n",
              " 'streams',\n",
              " 'thumbnail_url',\n",
              " 'title',\n",
              " 'use_oauth',\n",
              " 'vid_info',\n",
              " 'video_id',\n",
              " 'views',\n",
              " 'watch_html',\n",
              " 'watch_url']"
            ]
          },
          "metadata": {},
          "execution_count": 9
        }
      ]
    },
    {
      "cell_type": "code",
      "source": [
        "youtube_video.streams"
      ],
      "metadata": {
        "colab": {
          "base_uri": "https://localhost:8080/"
        },
        "id": "I3XV0qVmyE_b",
        "outputId": "2ef3fbb2-2a33-47a3-bdaa-70156f4df8d0"
      },
      "execution_count": 10,
      "outputs": [
        {
          "output_type": "execute_result",
          "data": {
            "text/plain": [
              "[<Stream: itag=\"17\" mime_type=\"video/3gpp\" res=\"144p\" fps=\"12fps\" vcodec=\"mp4v.20.3\" acodec=\"mp4a.40.2\" progressive=\"True\" type=\"video\">, <Stream: itag=\"18\" mime_type=\"video/mp4\" res=\"360p\" fps=\"24fps\" vcodec=\"avc1.42001E\" acodec=\"mp4a.40.2\" progressive=\"True\" type=\"video\">, <Stream: itag=\"22\" mime_type=\"video/mp4\" res=\"720p\" fps=\"24fps\" vcodec=\"avc1.64001F\" acodec=\"mp4a.40.2\" progressive=\"True\" type=\"video\">, <Stream: itag=\"136\" mime_type=\"video/mp4\" res=\"720p\" fps=\"24fps\" vcodec=\"avc1.4d401f\" progressive=\"False\" type=\"video\">, <Stream: itag=\"247\" mime_type=\"video/webm\" res=\"720p\" fps=\"24fps\" vcodec=\"vp9\" progressive=\"False\" type=\"video\">, <Stream: itag=\"135\" mime_type=\"video/mp4\" res=\"480p\" fps=\"24fps\" vcodec=\"avc1.4d401e\" progressive=\"False\" type=\"video\">, <Stream: itag=\"244\" mime_type=\"video/webm\" res=\"480p\" fps=\"24fps\" vcodec=\"vp9\" progressive=\"False\" type=\"video\">, <Stream: itag=\"134\" mime_type=\"video/mp4\" res=\"360p\" fps=\"24fps\" vcodec=\"avc1.4d401e\" progressive=\"False\" type=\"video\">, <Stream: itag=\"243\" mime_type=\"video/webm\" res=\"360p\" fps=\"24fps\" vcodec=\"vp9\" progressive=\"False\" type=\"video\">, <Stream: itag=\"133\" mime_type=\"video/mp4\" res=\"240p\" fps=\"24fps\" vcodec=\"avc1.4d4015\" progressive=\"False\" type=\"video\">, <Stream: itag=\"242\" mime_type=\"video/webm\" res=\"240p\" fps=\"24fps\" vcodec=\"vp9\" progressive=\"False\" type=\"video\">, <Stream: itag=\"160\" mime_type=\"video/mp4\" res=\"144p\" fps=\"24fps\" vcodec=\"avc1.4d400c\" progressive=\"False\" type=\"video\">, <Stream: itag=\"278\" mime_type=\"video/webm\" res=\"144p\" fps=\"24fps\" vcodec=\"vp9\" progressive=\"False\" type=\"video\">, <Stream: itag=\"139\" mime_type=\"audio/mp4\" abr=\"48kbps\" acodec=\"mp4a.40.5\" progressive=\"False\" type=\"audio\">, <Stream: itag=\"140\" mime_type=\"audio/mp4\" abr=\"128kbps\" acodec=\"mp4a.40.2\" progressive=\"False\" type=\"audio\">, <Stream: itag=\"249\" mime_type=\"audio/webm\" abr=\"50kbps\" acodec=\"opus\" progressive=\"False\" type=\"audio\">, <Stream: itag=\"250\" mime_type=\"audio/webm\" abr=\"70kbps\" acodec=\"opus\" progressive=\"False\" type=\"audio\">, <Stream: itag=\"251\" mime_type=\"audio/webm\" abr=\"160kbps\" acodec=\"opus\" progressive=\"False\" type=\"audio\">]"
            ]
          },
          "metadata": {},
          "execution_count": 10
        }
      ]
    },
    {
      "cell_type": "code",
      "source": [
        "for stream in youtube_video.streams:\n",
        "  print(stream)"
      ],
      "metadata": {
        "colab": {
          "base_uri": "https://localhost:8080/"
        },
        "id": "llxI9SJELPmF",
        "outputId": "eee458ca-11f1-4e04-fe5c-bd0c0094953d"
      },
      "execution_count": 11,
      "outputs": [
        {
          "output_type": "stream",
          "name": "stdout",
          "text": [
            "<Stream: itag=\"17\" mime_type=\"video/3gpp\" res=\"144p\" fps=\"12fps\" vcodec=\"mp4v.20.3\" acodec=\"mp4a.40.2\" progressive=\"True\" type=\"video\">\n",
            "<Stream: itag=\"18\" mime_type=\"video/mp4\" res=\"360p\" fps=\"24fps\" vcodec=\"avc1.42001E\" acodec=\"mp4a.40.2\" progressive=\"True\" type=\"video\">\n",
            "<Stream: itag=\"22\" mime_type=\"video/mp4\" res=\"720p\" fps=\"24fps\" vcodec=\"avc1.64001F\" acodec=\"mp4a.40.2\" progressive=\"True\" type=\"video\">\n",
            "<Stream: itag=\"136\" mime_type=\"video/mp4\" res=\"720p\" fps=\"24fps\" vcodec=\"avc1.4d401f\" progressive=\"False\" type=\"video\">\n",
            "<Stream: itag=\"247\" mime_type=\"video/webm\" res=\"720p\" fps=\"24fps\" vcodec=\"vp9\" progressive=\"False\" type=\"video\">\n",
            "<Stream: itag=\"135\" mime_type=\"video/mp4\" res=\"480p\" fps=\"24fps\" vcodec=\"avc1.4d401e\" progressive=\"False\" type=\"video\">\n",
            "<Stream: itag=\"244\" mime_type=\"video/webm\" res=\"480p\" fps=\"24fps\" vcodec=\"vp9\" progressive=\"False\" type=\"video\">\n",
            "<Stream: itag=\"134\" mime_type=\"video/mp4\" res=\"360p\" fps=\"24fps\" vcodec=\"avc1.4d401e\" progressive=\"False\" type=\"video\">\n",
            "<Stream: itag=\"243\" mime_type=\"video/webm\" res=\"360p\" fps=\"24fps\" vcodec=\"vp9\" progressive=\"False\" type=\"video\">\n",
            "<Stream: itag=\"133\" mime_type=\"video/mp4\" res=\"240p\" fps=\"24fps\" vcodec=\"avc1.4d4015\" progressive=\"False\" type=\"video\">\n",
            "<Stream: itag=\"242\" mime_type=\"video/webm\" res=\"240p\" fps=\"24fps\" vcodec=\"vp9\" progressive=\"False\" type=\"video\">\n",
            "<Stream: itag=\"160\" mime_type=\"video/mp4\" res=\"144p\" fps=\"24fps\" vcodec=\"avc1.4d400c\" progressive=\"False\" type=\"video\">\n",
            "<Stream: itag=\"278\" mime_type=\"video/webm\" res=\"144p\" fps=\"24fps\" vcodec=\"vp9\" progressive=\"False\" type=\"video\">\n",
            "<Stream: itag=\"139\" mime_type=\"audio/mp4\" abr=\"48kbps\" acodec=\"mp4a.40.5\" progressive=\"False\" type=\"audio\">\n",
            "<Stream: itag=\"140\" mime_type=\"audio/mp4\" abr=\"128kbps\" acodec=\"mp4a.40.2\" progressive=\"False\" type=\"audio\">\n",
            "<Stream: itag=\"249\" mime_type=\"audio/webm\" abr=\"50kbps\" acodec=\"opus\" progressive=\"False\" type=\"audio\">\n",
            "<Stream: itag=\"250\" mime_type=\"audio/webm\" abr=\"70kbps\" acodec=\"opus\" progressive=\"False\" type=\"audio\">\n",
            "<Stream: itag=\"251\" mime_type=\"audio/webm\" abr=\"160kbps\" acodec=\"opus\" progressive=\"False\" type=\"audio\">\n"
          ]
        }
      ]
    },
    {
      "cell_type": "code",
      "source": [
        "streams = youtube_video.streams.filter(only_audio=True)\n",
        "streams\n"
      ],
      "metadata": {
        "colab": {
          "base_uri": "https://localhost:8080/"
        },
        "id": "p1LZFVslL1Ce",
        "outputId": "5ac903bd-5f39-412a-856f-a23e569e5bea"
      },
      "execution_count": 12,
      "outputs": [
        {
          "output_type": "execute_result",
          "data": {
            "text/plain": [
              "[<Stream: itag=\"139\" mime_type=\"audio/mp4\" abr=\"48kbps\" acodec=\"mp4a.40.5\" progressive=\"False\" type=\"audio\">, <Stream: itag=\"140\" mime_type=\"audio/mp4\" abr=\"128kbps\" acodec=\"mp4a.40.2\" progressive=\"False\" type=\"audio\">, <Stream: itag=\"249\" mime_type=\"audio/webm\" abr=\"50kbps\" acodec=\"opus\" progressive=\"False\" type=\"audio\">, <Stream: itag=\"250\" mime_type=\"audio/webm\" abr=\"70kbps\" acodec=\"opus\" progressive=\"False\" type=\"audio\">, <Stream: itag=\"251\" mime_type=\"audio/webm\" abr=\"160kbps\" acodec=\"opus\" progressive=\"False\" type=\"audio\">]"
            ]
          },
          "metadata": {},
          "execution_count": 12
        }
      ]
    },
    {
      "cell_type": "code",
      "source": [
        "stream = streams.last()\n",
        "stream"
      ],
      "metadata": {
        "colab": {
          "base_uri": "https://localhost:8080/"
        },
        "id": "oHiKuSBSMBYC",
        "outputId": "df9fad6a-abc1-4b7b-fedf-831e01e6f2e7"
      },
      "execution_count": 13,
      "outputs": [
        {
          "output_type": "execute_result",
          "data": {
            "text/plain": [
              "<Stream: itag=\"251\" mime_type=\"audio/webm\" abr=\"160kbps\" acodec=\"opus\" progressive=\"False\" type=\"audio\">"
            ]
          },
          "metadata": {},
          "execution_count": 13
        }
      ]
    },
    {
      "cell_type": "code",
      "source": [
        "stream.download(filename='magufuli_statehouseke2.mp4')"
      ],
      "metadata": {
        "colab": {
          "base_uri": "https://localhost:8080/",
          "height": 36
        },
        "id": "IgaPoXfKOFOx",
        "outputId": "3ccf67b4-4871-47a9-a0ad-b49d596b5705"
      },
      "execution_count": 14,
      "outputs": [
        {
          "output_type": "execute_result",
          "data": {
            "text/plain": [
              "'/content/magufuli_statehouseke2.mp4'"
            ],
            "application/vnd.google.colaboratory.intrinsic+json": {
              "type": "string"
            }
          },
          "metadata": {},
          "execution_count": 14
        }
      ]
    },
    {
      "cell_type": "code",
      "source": [
        "# do the transcription\n",
        "import datetime\n",
        "\n",
        "# save a timestamp before transcription\n",
        "t1 = datetime.datetime.now()\n",
        "print(f\"started at {t1}\")\n",
        "\n",
        "# do the transcription\n",
        "output = model.transcribe(\"magufuli_statehouseke2.mp4\")\n",
        "\n",
        "# show time elapsed after transcription is complete.\n",
        "t2 = datetime.datetime.now()\n",
        "print(f\"ended at {t2}\")\n",
        "print(f\"time elapsed: {t2 - t1}\")\n"
      ],
      "metadata": {
        "id": "IpM_d5qjxbMm",
        "colab": {
          "base_uri": "https://localhost:8080/"
        },
        "outputId": "653217b7-2a9c-41bb-d209-0ad9e78c4ca6"
      },
      "execution_count": 15,
      "outputs": [
        {
          "output_type": "stream",
          "name": "stdout",
          "text": [
            "started at 2023-01-13 13:13:51.330912\n",
            "ended at 2023-01-13 13:17:03.793409\n",
            "time elapsed: 0:03:12.462497\n"
          ]
        }
      ]
    },
    {
      "cell_type": "code",
      "source": [
        "output[\"text\"]"
      ],
      "metadata": {
        "id": "tiAbvLCqzCJg",
        "colab": {
          "base_uri": "https://localhost:8080/",
          "height": 140
        },
        "outputId": "f1b69ed8-0dd3-42f5-faa0-09c75b908dcb"
      },
      "execution_count": 16,
      "outputs": [
        {
          "output_type": "execute_result",
          "data": {
            "text/plain": [
              "' Ninienda kule nilibatika wakati fulani kuenda kufungua barabara ya maua, Meru. Ukiona ni kama wachaga wa Tanzania. Kwa hiyo, kwa ujumla, wa Tanzania na wa Kenya ni ndugu. Lakini, nime tua mfano kwa mfano wa nyumbu, ambapo wakati fulani hua wana kuja Tanzania, wakati fulani wana kuja Kenya. Kwa hiyo, watalii wanaweza wakawaenda wakawaonea wale nyumbu wakiwa Kenya, lakini nyumbu hao hao wanaweza watalii wakaja wakawaona wakawa Tanzania. Huo ni undugu mkubwa. Lakini hata waasis wa mataifa haya. Na leo ni nashukuru, ni mebatika kufika kwenye Kabuli ya riporazu wa baba wataifa hirira Kenya na muanzirishi mzee wetu Jomo Kinyata. Nimeflai kwa ishima hiyo. Huo likua ni ndugu na marafiki pamoja na raisi wa awamu ya kwanza wa Tanzania, mzee Julius Kambarage Nyerere. Na wakati wa Uhuru Tanzania, mzee Kinyata haritumia kalibu siku nni kusafiri kuja mpaka Dar esalamu. Aja ashuhudie Uhuru Tanzania. Lakini Nyerere harikuwa yuko tiyari ya delay Uhuru Tanzania, ilikusudi Kenya kwanza ipate Uhuru kwa pamoja. Ire ni attachment inayohonyesha kwa mba Kenya na Tanzania ni ndugu. Kwa iyo ni kushukuru sana mweshume wa Uhuru Kinyata kwa kunikalibisha. Nimekuja hapa, hapa na jisikia nyumbani. Na batinzuri indugu Kinyata Uhuru. Ni na mfahamu siku nyingi. Adipokuwa waziri watawara za mikoa. Na batinzuri pia ni na mzuri muaka mmoja. Yeya mezariwa muaka setini. Mime muaka msini na tisa. Lakini nime muerezea hali harisi ya Tanzania kwa mba tunaendelea. Tunafanya kazi ya kuakikisha inchi na move forward. Tunataka wa Tanzania walipe kodi. Tunajitaidi kupiga vita ufisadi. Na tunafanya kwa nguvu zote katika kuakikisha kwa mba wa Tanzania na Tanzania yetu yende mbeli. Uchumi katika kuota ya pili kwa sasa hivi. Tanzania ulikuna kuwa kwa asrimi ya 7.9. Lengoletu ni kufika asrimi ya 7.2. Inflation katika muwezi huu imeshuka kutoka 7.something paka kwenye 4.5. Kwa iyo ni naimani kubwa kwa mba tukienda na pesi hii, tunaweza tukafika mahali ambapo inchi tunaweza tukaipereka katika maswara mazuri. Lakini pia nime musibitishia mueshime wa Uhuru Kenyatta kwa mba Kenya ni partner namba mogya katika Afrika. Angbae ni muhimu sana kwa Tanzania. Kwa sababu katika record za Tanzania Investment Center za Tanzania, makampuni ya Rio ya Kenya ambao ya mewekeza Tanzania mpaka sasa hivi yako 529. Ambao ya mewekeza feather, thenye thamani ya dollars akimarekani, bilioni moja point saba. Na wame create employment kwa Tanzania, zaidi ya Tanzania hamsina 6,200,000. Na takwimu hizo zinaifanya Kenya kuwa inchi ya kwanza ya Afrika yenye wekeza ajimu kubwa inchini Tanzania. Hakuna inchi nyingine za Afrika ambayo yimewekeza kwa kiasi kikubwa Tanzania, bali ni Kenya. Na niyo mananasema Kenya ni partner namba moja. Lakini pia takwimu zinawonyesha pia kuwa jumla ya thamani ya biashara. Kati ya inchisetu mbili, imeongezeka kutoka shringi za Tanzania, bilioni mia 6,200,000. Mia 6,200,000 kwa mwakilufu mbili na kumi, hadi feathers a Tanzania, yani shringi, trio ni 2.044 kwa manzo ni mamaka huu. Kwa iyo nataka kukusubitishia ndugu yangu, moishimu wa Uhuru Kenyata na wakenya ote. Ninye ni ndugu zetu. Kwa iyo ni mekuja kwa ndugu zangu, na kuweli ni najisikia nyumbani, lakini na wakalibisha tena wakenya ote. Wanaotaka kufanya biashara Tanzania. Waje hata kuanzia leo. Kwa sababu, sisi, tunataka kufanya biashara na wakenya. Kwa sababu, ni ndugu zetu. Mengi ya mezungumzwa na moishimu wa laisi. Nataka kukusubitishia tu kwa mba tuko pa moja. Tunalengo kubwa na kuleta uchumi na kuleta maendeleo kwa ajili ya nchizetu. Sisi tu wa moja, historically, na tutaendeleo kuwa wa moja. Kwa iyo ziara yangu hii ni kucementi the good relationship which have been existing between Tanzania and Kenya. In chemistry I could just say that maybe we are just acting like a catalyst. And the catalyst is that substance which speed up the reaction but does not take part in chemical change. So we are all catalyst. Kwa iyo ndugu zangu, ni na washukuru sana. Moishimu wa laisi, na kushukuru sana. Ni na kushukuru pia wakati tumepata tetemeko Kenya mweli tu sapoti. Tumekua tu nzungumzwa sana na raisi Uhuru mara nyingi kwa nyesimu. Tuna pigiana simu kwa mambo mengi. Lakini kwa sababu simu wazi yonekani hadharani. Watu wengine hawajui. Sasa basi mwujue leo kwa mba hua tu nzungumzwa sana na moishimu wa Uhuru Kenyatta. Na kuamba zisi ni marafiki, ni ndugu, tuko pa moja. Lengoletu ni kuuweka masilahi ya nchizetu mbere na kuenda mbere kwa ajili ya meendeleo ya Tanzania na Kenya. Pade ya kuzema ayo ndugu zangu, sizi yuri ingine ni zungumze nini. Lakini ni na washukuru sana, na shukuru sana, makaribisho mazuli. Joint Commission, tumeagiza mawaziri wetu wa foreign wa Kenya na Tanzania. Ikiwezekana wakutane kabla ya mwaka ujaisha. Kwa sababu, tumekutana kwa zaidi ya miaka mini liopita. Tumecherewa. Ni razima tuende haraka. Na ndiyo mana, mimi uwa na msemo kule kule hapa kazi tu. Tuna taka tufanye kazi kwa ajili ya meendeleo ya Tanzania. Na katika takuimu hizi za uweke zaaji, za ndugu zetu wa Kenya ambao uzimekuja Tanzania. Tuna mambo mengi ya kujifunza katietu. Katia Kenya na Tanzania. Na mimi ni wambie ndugu zaangu wa Tanzania na wa Kenya. Sisi ni wamoja, lengoletu ni moja, niya yetu ni moja, mungu wetu ni moja, na sisi wote ni wamoja. Mungu ibariki Kenya, mungu ibariki Tanzania. Asante ni sana. Nyreemewe alij predictive density magnitudes wero Kenya Tanzania visualmen. Njio sa metaliku juma pasa. Achuwonge un moje alichope ampunguu. Sin Просто osinksini na toko mayo ya Lipamingo.'"
            ],
            "application/vnd.google.colaboratory.intrinsic+json": {
              "type": "string"
            }
          },
          "metadata": {},
          "execution_count": 16
        }
      ]
    },
    {
      "cell_type": "code",
      "source": [
        "import pandas as pd"
      ],
      "metadata": {
        "id": "SS4adEmzT81s"
      },
      "execution_count": 18,
      "outputs": []
    },
    {
      "cell_type": "code",
      "source": [
        "# The name of the file you want to save the output to\n",
        "filename = 'magufuli.output.csv'\n",
        "\n",
        "df = pd.DataFrame(output)\n",
        "df.to_csv(filename)"
      ],
      "metadata": {
        "id": "f3I1XAWiTuZN"
      },
      "execution_count": 19,
      "outputs": []
    }
  ]
}